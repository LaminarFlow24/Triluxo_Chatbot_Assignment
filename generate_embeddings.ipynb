{
 "cells": [
  {
   "cell_type": "code",
   "execution_count": 2,
   "metadata": {},
   "outputs": [
    {
     "name": "stdout",
     "output_type": "stream",
     "text": [
      "Embeddings generated and saved to 'courses_faiss.index' and 'courses_metadata.json'.\n"
     ]
    }
   ],
   "source": [
    "import json\n",
    "import faiss\n",
    "from langchain.embeddings import SentenceTransformerEmbeddings\n",
    "from langchain.docstore.document import Document\n",
    "from langchain.vectorstores import FAISS\n",
    "\n",
    "# Load courses.json\n",
    "with open(\"courses.json\", \"r\", encoding=\"utf-8\") as f:\n",
    "    courses = json.load(f)\n",
    "\n",
    "# Create Document objects from each course\n",
    "documents = []\n",
    "for course in courses:\n",
    "    content = (\n",
    "        f\"Course Name: {course.get('Course Name', '')}\\n\"\n",
    "        f\"Description: {course.get('Course Description', '')}\\n\"\n",
    "        f\"Curriculum: {', '.join(course.get('Course Curriculum', []))}\\n\"\n",
    "        f\"Price: {course.get('Course Price', 'N/A')}\"\n",
    "    )\n",
    "    doc = Document(page_content=content, metadata=course)\n",
    "    documents.append(doc)\n",
    "\n",
    "# Create embeddings using a local SentenceTransformer model\n",
    "embeddings = SentenceTransformerEmbeddings(model_name=\"all-MiniLM-L6-v2\")\n",
    "\n",
    "# Build a FAISS vector store from the documents\n",
    "vectorstore = FAISS.from_documents(documents, embeddings)\n",
    "\n",
    "# Save the FAISS index to disk\n",
    "faiss.write_index(vectorstore.index, \"courses_faiss.index\")\n",
    "\n",
    "# Save the metadata for each course using the original documents list.\n",
    "metadata_list = [doc.metadata for doc in documents]\n",
    "with open(\"courses_metadata.json\", \"w\", encoding=\"utf-8\") as f:\n",
    "    json.dump(metadata_list, f, indent=4)\n",
    "\n",
    "print(\"Embeddings generated and saved to 'courses_faiss.index' and 'courses_metadata.json'.\")\n"
   ]
  }
 ],
 "metadata": {
  "kernelspec": {
   "display_name": "nlp310",
   "language": "python",
   "name": "python3"
  },
  "language_info": {
   "codemirror_mode": {
    "name": "ipython",
    "version": 3
   },
   "file_extension": ".py",
   "mimetype": "text/x-python",
   "name": "python",
   "nbconvert_exporter": "python",
   "pygments_lexer": "ipython3",
   "version": "3.10.16"
  }
 },
 "nbformat": 4,
 "nbformat_minor": 2
}
