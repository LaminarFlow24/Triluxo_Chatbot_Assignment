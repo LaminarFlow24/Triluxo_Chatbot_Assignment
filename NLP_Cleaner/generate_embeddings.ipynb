{
 "cells": [
  {
   "cell_type": "code",
   "execution_count": 1,
   "metadata": {},
   "outputs": [
    {
     "name": "stderr",
     "output_type": "stream",
     "text": [
      "c:\\Users\\heman\\.conda\\envs\\nlp310\\lib\\site-packages\\tqdm\\auto.py:21: TqdmWarning: IProgress not found. Please update jupyter and ipywidgets. See https://ipywidgets.readthedocs.io/en/stable/user_install.html\n",
      "  from .autonotebook import tqdm as notebook_tqdm\n"
     ]
    },
    {
     "name": "stdout",
     "output_type": "stream",
     "text": [
      "Embeddings generated, FAISS index and metadata saved!\n"
     ]
    }
   ],
   "source": [
    "import json\n",
    "import faiss\n",
    "import numpy as np\n",
    "from sentence_transformers import SentenceTransformer\n",
    "\n",
    "# Load course data from JSON file (make sure courses.json exists)\n",
    "with open(\"courses.json\", \"r\", encoding=\"utf-8\") as f:\n",
    "    courses = json.load(f)\n",
    "\n",
    "# Initialize the SentenceTransformer model\n",
    "model = SentenceTransformer(\"all-MiniLM-L6-v2\")\n",
    "\n",
    "# Combine fields to form a single text input for each course\n",
    "texts = [\n",
    "    f\"{course['Course Name']} - {course['Course Description']} - {', '.join(course['Course Curriculum'])}\"\n",
    "    for course in courses\n",
    "]\n",
    "\n",
    "# Generate embeddings for all courses\n",
    "embeddings = model.encode(texts, convert_to_numpy=True)\n",
    "\n",
    "# Create a FAISS index using L2 (Euclidean) distance\n",
    "d = embeddings.shape[1]  # Dimension of embeddings\n",
    "index = faiss.IndexFlatL2(d)\n",
    "index.add(embeddings)\n",
    "\n",
    "# Save the FAISS index\n",
    "faiss.write_index(index, \"courses_faiss.index\")\n",
    "\n",
    "# Save metadata for later retrieval (mapping each index to its course details)\n",
    "metadata = {i: courses[i] for i in range(len(courses))}\n",
    "with open(\"courses_metadata.json\", \"w\", encoding=\"utf-8\") as f:\n",
    "    json.dump(metadata, f, indent=4)\n",
    "\n",
    "print(\"Embeddings generated, FAISS index and metadata saved!\")\n"
   ]
  }
 ],
 "metadata": {
  "kernelspec": {
   "display_name": "nlp310",
   "language": "python",
   "name": "python3"
  },
  "language_info": {
   "codemirror_mode": {
    "name": "ipython",
    "version": 3
   },
   "file_extension": ".py",
   "mimetype": "text/x-python",
   "name": "python",
   "nbconvert_exporter": "python",
   "pygments_lexer": "ipython3",
   "version": "3.10.16"
  }
 },
 "nbformat": 4,
 "nbformat_minor": 2
}
